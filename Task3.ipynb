{
 "cells": [
  {
   "attachments": {},
   "cell_type": "markdown",
   "metadata": {},
   "source": [
    "3.Рост дочерей 175, 167, 154, 174, 178, 148, 160, 167, 169, 170\n",
    "\n",
    "Рост матерей  178, 165, 165, 173, 168, 155, 160, 164, 178, 175\n",
    "\n",
    "Используя эти данные построить 95% доверительный интервал для разности среднего роста родителей и детей."
   ]
  },
  {
   "cell_type": "code",
   "execution_count": 1,
   "metadata": {},
   "outputs": [],
   "source": [
    "import numpy as np"
   ]
  },
  {
   "cell_type": "code",
   "execution_count": 7,
   "metadata": {},
   "outputs": [
    {
     "data": {
      "text/plain": [
       "(0.2401769672642866, 3.559823032735725)"
      ]
     },
     "execution_count": 7,
     "metadata": {},
     "output_type": "execute_result"
    }
   ],
   "source": [
    "arr_d = [175, 167, 154, 174, 178, 148, 160, 167, 169, 170]\n",
    "arr_m = [178, 165, 165, 173, 168, 155, 160, 164, 178, 175]\n",
    "a = 0.05\n",
    "n1 = len(arr_d)\n",
    "n2 = len(arr_m)\n",
    "m1 = np.mean(arr_d)\n",
    "m2 = np.mean(arr_m)\n",
    "D1 = np.var(arr_d)\n",
    "D2 = np.var(arr_m)\n",
    "D = 0.5*(D1+D2)\n",
    "M = m2-m1\n",
    "t = 2*(n1-1)\n",
    "SE = (D/n1 + D/n2)**0.5\n",
    "x1 = M-(t*a/2)*SE\n",
    "x2 = M+(t*a/2)*SE\n",
    "x1,x2"
   ]
  }
 ],
 "metadata": {
  "kernelspec": {
   "display_name": "Python 3",
   "language": "python",
   "name": "python3"
  },
  "language_info": {
   "codemirror_mode": {
    "name": "ipython",
    "version": 3
   },
   "file_extension": ".py",
   "mimetype": "text/x-python",
   "name": "python",
   "nbconvert_exporter": "python",
   "pygments_lexer": "ipython3",
   "version": "3.10.11"
  },
  "orig_nbformat": 4
 },
 "nbformat": 4,
 "nbformat_minor": 2
}
